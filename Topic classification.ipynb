{
 "cells": [
  {
   "cell_type": "markdown",
   "metadata": {},
   "source": [
    "In this notebook, we'll demonstrate ORES' ability to do topical classifications using the \"articletopic\" model.  First we'll define some functions for getting the top level topic predictions for an article and then we'll experiment with trying it on a few articles.  "
   ]
  },
  {
   "cell_type": "code",
   "execution_count": 1,
   "metadata": {
    "collapsed": false
   },
   "outputs": [
    {
     "name": "stdout",
     "output_type": "stream",
     "text": [
      "Requirement already satisfied: oresapi in /home/halfak/venv/3.5/lib/python3.5/site-packages (0.0.1)\n",
      "Requirement already satisfied: requests in /home/halfak/venv/3.5/lib/python3.5/site-packages (from oresapi) (2.21.0)\n",
      "Requirement already satisfied: more-itertools in /home/halfak/venv/3.5/lib/python3.5/site-packages (from oresapi) (7.2.0)\n",
      "Requirement already satisfied: idna<2.9,>=2.5 in /home/halfak/venv/3.5/lib/python3.5/site-packages (from requests->oresapi) (2.8)\n",
      "Requirement already satisfied: certifi>=2017.4.17 in /home/halfak/venv/3.5/lib/python3.5/site-packages (from requests->oresapi) (2019.3.9)\n",
      "Requirement already satisfied: chardet<3.1.0,>=3.0.2 in /home/halfak/venv/3.5/lib/python3.5/site-packages (from requests->oresapi) (3.0.4)\n",
      "Requirement already satisfied: urllib3<1.25,>=1.21.1 in /home/halfak/venv/3.5/lib/python3.5/site-packages (from requests->oresapi) (1.24.3)\n"
     ]
    }
   ],
   "source": [
    "!pip install oresapi"
   ]
  },
  {
   "cell_type": "code",
   "execution_count": 2,
   "metadata": {
    "collapsed": true
   },
   "outputs": [],
   "source": [
    "import mwapi\n",
    "import oresapi"
   ]
  },
  {
   "cell_type": "markdown",
   "metadata": {},
   "source": [
    "# Functions for getting the top-level prediction"
   ]
  },
  {
   "cell_type": "code",
   "execution_count": 3,
   "metadata": {
    "collapsed": true
   },
   "outputs": [],
   "source": [
    "mw_session = mwapi.Session(\n",
    "    \"https://en.wikipedia.org\",\n",
    "    user_agent=\"ahalfaker@wikimedia.org -- ORES topic demo\")\n",
    "ores_session = oresapi.Session(\n",
    "    \"https://ores.wikimedia.org\",\n",
    "    user_agent=\"ahalfaker@wikimedia.org -- ORES topic demo\")\n",
    "\n",
    "def get_topic_prediction(page_title):\n",
    "    doc = mw_session.get(action='query', prop='revisions', titles=page_title, rvprop=['ids'], formatversion=2)\n",
    "    recent_rev_id = doc['query']['pages'][0]['revisions'][0]['revid']\n",
    "    score_doc = list(ores_session.score('enwiki', ['articletopic'], recent_rev_id))[0]\n",
    "    return score_doc['articletopic']['score']\n",
    "\n",
    "def print_top_level_topics(score):\n",
    "    proba_topics = [(proba, topic) for topic, proba in score['probability'].items()]\n",
    "    proba_topics.sort(reverse=True)\n",
    "    for proba, topic in proba_topics:\n",
    "        if proba > 0.15:\n",
    "            print(\"{0} ({1}%)\".format(topic, round(proba, 2)*100))\n",
    "        else:\n",
    "            break\n",
    "\n",
    "    "
   ]
  },
  {
   "cell_type": "markdown",
   "metadata": {},
   "source": [
    "# Experimenting with the function"
   ]
  },
  {
   "cell_type": "code",
   "execution_count": 4,
   "metadata": {
    "collapsed": false
   },
   "outputs": [
    {
     "name": "stdout",
     "output_type": "stream",
     "text": [
      "STEM.STEM* (97.0%)\n",
      "Culture.Biography.Biography* (93.0%)\n",
      "STEM.Biology (75.0%)\n",
      "STEM.Medicine & Health (59.0%)\n",
      "History and Society.History (45.0%)\n",
      "Culture.Biography.Women (21.0%)\n",
      "Geography.Regions.Europe.Northern Europe (17.0%)\n",
      "Geography.Regions.Europe.Europe* (15.0%)\n"
     ]
    }
   ],
   "source": [
    "print_top_level_topics(get_topic_prediction(\"Ann Bishop (biologist)\"))"
   ]
  },
  {
   "cell_type": "code",
   "execution_count": 5,
   "metadata": {
    "collapsed": false
   },
   "outputs": [
    {
     "name": "stdout",
     "output_type": "stream",
     "text": [
      "STEM.STEM* (93.0%)\n",
      "STEM.Computing (61.0%)\n",
      "STEM.Technology (60.0%)\n",
      "Culture.Biography.Biography* (56.00000000000001%)\n",
      "Culture.Media.Software (40.0%)\n",
      "Culture.Media.Media* (31.0%)\n",
      "Culture.Internet culture (23.0%)\n",
      "Geography.Regions.Americas.North America (16.0%)\n"
     ]
    }
   ],
   "source": [
    "print_top_level_topics(get_topic_prediction(\"Aaron Halfaker\"))"
   ]
  },
  {
   "cell_type": "code",
   "execution_count": 6,
   "metadata": {
    "collapsed": false
   },
   "outputs": [
    {
     "name": "stdout",
     "output_type": "stream",
     "text": [
      "Geography.Regions.Americas.North America (95.0%)\n",
      "STEM.STEM* (22.0%)\n",
      "History and Society.Politics and government (19.0%)\n",
      "Culture.Visual arts.Visual arts* (17.0%)\n"
     ]
    }
   ],
   "source": [
    "print_top_level_topics(get_topic_prediction(\"Seattle\"))"
   ]
  },
  {
   "cell_type": "code",
   "execution_count": null,
   "metadata": {
    "collapsed": true
   },
   "outputs": [],
   "source": []
  }
 ],
 "metadata": {
  "kernelspec": {
   "display_name": "Python 3",
   "language": "python",
   "name": "python3"
  },
  "language_info": {
   "codemirror_mode": {
    "name": "ipython",
    "version": 3
   },
   "file_extension": ".py",
   "mimetype": "text/x-python",
   "name": "python",
   "nbconvert_exporter": "python",
   "pygments_lexer": "ipython3",
   "version": "3.5.1+"
  }
 },
 "nbformat": 4,
 "nbformat_minor": 1
}
