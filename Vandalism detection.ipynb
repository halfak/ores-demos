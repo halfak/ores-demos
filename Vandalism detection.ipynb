{
 "cells": [
  {
   "cell_type": "markdown",
   "metadata": {},
   "source": [
    "In this notebook, we're going to build a basic vndalism detection system.  We'll be connecting to the feed of edits from English Wikipedia and we'll be using the ORES 'damaging' model to flag edits that look like they need review. See the documentation on [Wikimedia Event Streams](https://wikitech.wikimedia.org/wiki/Event_Platform/EventStreams) for more information about these events and how to connect to the stream.  \n",
    "\n",
    "First, we'll define a function that, given a \"revision ID\" (which represents a new edit to an article), we'll look up a prediction and return the probability (confidence level).  Then, we'll connect to the stream of edits and score each one as it comes in -- reporting each edit that crosses a specific threshold. "
   ]
  },
  {
   "cell_type": "code",
   "execution_count": 1,
   "metadata": {
    "collapsed": false
   },
   "outputs": [
    {
     "name": "stdout",
     "output_type": "stream",
     "text": [
      "Requirement already satisfied: oresapi in /home/halfak/venv/3.5/lib/python3.5/site-packages (0.0.1)\n",
      "Requirement already satisfied: sseclient in /home/halfak/venv/3.5/lib/python3.5/site-packages (0.0.24)\n",
      "Requirement already satisfied: requests in /home/halfak/venv/3.5/lib/python3.5/site-packages (from oresapi) (2.21.0)\n",
      "Requirement already satisfied: more-itertools in /home/halfak/venv/3.5/lib/python3.5/site-packages (from oresapi) (7.2.0)\n",
      "Requirement already satisfied: six in /home/halfak/venv/3.5/lib/python3.5/site-packages (from sseclient) (1.12.0)\n",
      "Requirement already satisfied: certifi>=2017.4.17 in /home/halfak/venv/3.5/lib/python3.5/site-packages (from requests->oresapi) (2019.3.9)\n",
      "Requirement already satisfied: idna<2.9,>=2.5 in /home/halfak/venv/3.5/lib/python3.5/site-packages (from requests->oresapi) (2.8)\n",
      "Requirement already satisfied: urllib3<1.25,>=1.21.1 in /home/halfak/venv/3.5/lib/python3.5/site-packages (from requests->oresapi) (1.24.3)\n",
      "Requirement already satisfied: chardet<3.1.0,>=3.0.2 in /home/halfak/venv/3.5/lib/python3.5/site-packages (from requests->oresapi) (3.0.4)\n"
     ]
    }
   ],
   "source": [
    "!pip install oresapi sseclient"
   ]
  },
  {
   "cell_type": "code",
   "execution_count": 2,
   "metadata": {
    "collapsed": false
   },
   "outputs": [],
   "source": [
    "import json\n",
    "from sseclient import SSEClient as EventSource\n",
    "import oresapi\n",
    "\n"
   ]
  },
  {
   "cell_type": "markdown",
   "metadata": {},
   "source": [
    "# Define a function for getting damage probability"
   ]
  },
  {
   "cell_type": "code",
   "execution_count": 3,
   "metadata": {
    "collapsed": false
   },
   "outputs": [],
   "source": [
    "ores_session = oresapi.Session(\n",
    "    \"https://ores.wikimedia.org\",\n",
    "    user_agent=\"ahalfaker@wikimedia.org -- ORES usage demo\")\n",
    "\n",
    "def get_damage_proba(rev_id):\n",
    "    score_doc = list(ores_session.score('enwiki', ['damaging'], rev_id))[0]\n",
    "    \n",
    "    try:\n",
    "        return score_doc['damaging']['score']['probability']['true']\n",
    "    except:\n",
    "        return None\n",
    "\n"
   ]
  },
  {
   "cell_type": "code",
   "execution_count": 4,
   "metadata": {
    "collapsed": false
   },
   "outputs": [
    {
     "data": {
      "text/plain": [
       "0.12206179165017522"
      ]
     },
     "execution_count": 4,
     "metadata": {},
     "output_type": "execute_result"
    }
   ],
   "source": [
    "get_damage_proba(12345678)"
   ]
  },
  {
   "cell_type": "markdown",
   "metadata": {},
   "source": [
    "# Connect to the stream and start scoring"
   ]
  },
  {
   "cell_type": "code",
   "execution_count": 5,
   "metadata": {
    "collapsed": false
   },
   "outputs": [
    {
     "name": "stdout",
     "output_type": "stream",
     "text": [
      "https://en.wikipedia.org/wiki/Special:Diff/937044201 0.04 OK\n",
      "https://en.wikipedia.org/wiki/Special:Diff/937044205 0.01 OK\n",
      "https://en.wikipedia.org/wiki/Special:Diff/937044204 0.73 check\n",
      "https://en.wikipedia.org/wiki/Special:Diff/937044207 0.01 OK\n",
      "https://en.wikipedia.org/wiki/Special:Diff/937044208 0.1 OK\n",
      "https://en.wikipedia.org/wiki/Special:Diff/937044206 0.03 OK\n",
      "https://en.wikipedia.org/wiki/Special:Diff/937044209 0.49 OK\n",
      "https://en.wikipedia.org/wiki/Special:Diff/937044210 0.66 check\n",
      "https://en.wikipedia.org/wiki/Special:Diff/937044212 0.54 check\n",
      "https://en.wikipedia.org/wiki/Special:Diff/937044211 0.01 OK\n",
      "https://en.wikipedia.org/wiki/Special:Diff/937044213 0.03 OK\n",
      "https://en.wikipedia.org/wiki/Special:Diff/937044214 0.33 OK\n",
      "https://en.wikipedia.org/wiki/Special:Diff/937044215 0.05 OK\n",
      "https://en.wikipedia.org/wiki/Special:Diff/937044216 0.01 OK\n",
      "https://en.wikipedia.org/wiki/Special:Diff/937044217 0.04 OK\n",
      "https://en.wikipedia.org/wiki/Special:Diff/937044218 0.15 OK\n",
      "https://en.wikipedia.org/wiki/Special:Diff/937044221 0.0 OK\n",
      "https://en.wikipedia.org/wiki/Special:Diff/937044220 0.03 OK\n",
      "https://en.wikipedia.org/wiki/Special:Diff/937044219 0.01 OK\n",
      "https://en.wikipedia.org/wiki/Special:Diff/937044222 0.02 OK\n",
      "https://en.wikipedia.org/wiki/Special:Diff/937044223 0.22 OK\n",
      "https://en.wikipedia.org/wiki/Special:Diff/937044224 0.01 OK\n",
      "https://en.wikipedia.org/wiki/Special:Diff/937044225 0.14 OK\n",
      "https://en.wikipedia.org/wiki/Special:Diff/937044227 0.05 OK\n",
      "https://en.wikipedia.org/wiki/Special:Diff/937044228 0.0 OK\n",
      "https://en.wikipedia.org/wiki/Special:Diff/937044229 0.02 OK\n"
     ]
    },
    {
     "ename": "KeyboardInterrupt",
     "evalue": "",
     "output_type": "error",
     "traceback": [
      "\u001b[0;31m---------------------------------------------------------------------------\u001b[0m",
      "\u001b[0;31mKeyboardInterrupt\u001b[0m                         Traceback (most recent call last)",
      "\u001b[0;32m<ipython-input-5-68c4e2414d69>\u001b[0m in \u001b[0;36m<module>\u001b[0;34m()\u001b[0m\n\u001b[1;32m      9\u001b[0m             \u001b[0;32mif\u001b[0m \u001b[0;34m'revision'\u001b[0m \u001b[0;32min\u001b[0m \u001b[0mchange\u001b[0m \u001b[0;32mand\u001b[0m \u001b[0mchange\u001b[0m\u001b[0;34m[\u001b[0m\u001b[0;34m'wiki'\u001b[0m\u001b[0;34m]\u001b[0m \u001b[0;34m==\u001b[0m \u001b[0;34m'enwiki'\u001b[0m\u001b[0;34m:\u001b[0m\u001b[0;34m\u001b[0m\u001b[0m\n\u001b[1;32m     10\u001b[0m                 \u001b[0mrev_id\u001b[0m \u001b[0;34m=\u001b[0m \u001b[0mchange\u001b[0m\u001b[0;34m[\u001b[0m\u001b[0;34m'revision'\u001b[0m\u001b[0;34m]\u001b[0m\u001b[0;34m[\u001b[0m\u001b[0;34m'new'\u001b[0m\u001b[0;34m]\u001b[0m\u001b[0;34m\u001b[0m\u001b[0m\n\u001b[0;32m---> 11\u001b[0;31m                 \u001b[0mproba\u001b[0m \u001b[0;34m=\u001b[0m \u001b[0mget_damage_proba\u001b[0m\u001b[0;34m(\u001b[0m\u001b[0mrev_id\u001b[0m\u001b[0;34m)\u001b[0m\u001b[0;34m\u001b[0m\u001b[0m\n\u001b[0m\u001b[1;32m     12\u001b[0m                 print(\"https://en.wikipedia.org/wiki/Special:Diff/{0}\".format(rev_id), \n\u001b[1;32m     13\u001b[0m                       round(proba, 2), \"check\" if proba and proba > 0.5 else \"OK\")\n",
      "\u001b[0;32m<ipython-input-3-87e6c0a0fe40>\u001b[0m in \u001b[0;36mget_damage_proba\u001b[0;34m(rev_id)\u001b[0m\n\u001b[1;32m      4\u001b[0m \u001b[0;34m\u001b[0m\u001b[0m\n\u001b[1;32m      5\u001b[0m \u001b[0;32mdef\u001b[0m \u001b[0mget_damage_proba\u001b[0m\u001b[0;34m(\u001b[0m\u001b[0mrev_id\u001b[0m\u001b[0;34m)\u001b[0m\u001b[0;34m:\u001b[0m\u001b[0;34m\u001b[0m\u001b[0m\n\u001b[0;32m----> 6\u001b[0;31m     \u001b[0mscore_doc\u001b[0m \u001b[0;34m=\u001b[0m \u001b[0mlist\u001b[0m\u001b[0;34m(\u001b[0m\u001b[0mores_session\u001b[0m\u001b[0;34m.\u001b[0m\u001b[0mscore\u001b[0m\u001b[0;34m(\u001b[0m\u001b[0;34m'enwiki'\u001b[0m\u001b[0;34m,\u001b[0m \u001b[0;34m[\u001b[0m\u001b[0;34m'damaging'\u001b[0m\u001b[0;34m]\u001b[0m\u001b[0;34m,\u001b[0m \u001b[0mrev_id\u001b[0m\u001b[0;34m)\u001b[0m\u001b[0;34m)\u001b[0m\u001b[0;34m[\u001b[0m\u001b[0;36m0\u001b[0m\u001b[0;34m]\u001b[0m\u001b[0;34m\u001b[0m\u001b[0m\n\u001b[0m\u001b[1;32m      7\u001b[0m \u001b[0;34m\u001b[0m\u001b[0m\n\u001b[1;32m      8\u001b[0m     \u001b[0;32mtry\u001b[0m\u001b[0;34m:\u001b[0m\u001b[0;34m\u001b[0m\u001b[0m\n",
      "\u001b[0;32m/home/halfak/venv/3.5/lib/python3.5/site-packages/oresapi/session.py\u001b[0m in \u001b[0;36m_score\u001b[0;34m(self, context, models, rev_ids)\u001b[0m\n\u001b[1;32m    105\u001b[0m             \u001b[0;32mfor\u001b[0m \u001b[0;34m(\u001b[0m\u001b[0mfuture\u001b[0m\u001b[0;34m,\u001b[0m \u001b[0mrev_id_batch\u001b[0m\u001b[0;34m)\u001b[0m \u001b[0;32min\u001b[0m \u001b[0mfuture_rev_ids\u001b[0m\u001b[0;34m:\u001b[0m\u001b[0;34m\u001b[0m\u001b[0m\n\u001b[1;32m    106\u001b[0m                 \u001b[0;32mtry\u001b[0m\u001b[0;34m:\u001b[0m\u001b[0;34m\u001b[0m\u001b[0m\n\u001b[0;32m--> 107\u001b[0;31m                     \u001b[0;32mfor\u001b[0m \u001b[0mscore\u001b[0m \u001b[0;32min\u001b[0m \u001b[0mfuture\u001b[0m\u001b[0;34m.\u001b[0m\u001b[0mresult\u001b[0m\u001b[0;34m(\u001b[0m\u001b[0;34m)\u001b[0m\u001b[0;34m:\u001b[0m\u001b[0;34m\u001b[0m\u001b[0m\n\u001b[0m\u001b[1;32m    108\u001b[0m                         \u001b[0;32myield\u001b[0m \u001b[0mscore\u001b[0m\u001b[0;34m\u001b[0m\u001b[0m\n\u001b[1;32m    109\u001b[0m                 \u001b[0;32mexcept\u001b[0m \u001b[0mRuntimeError\u001b[0m \u001b[0;32mas\u001b[0m \u001b[0me\u001b[0m\u001b[0;34m:\u001b[0m\u001b[0;34m\u001b[0m\u001b[0m\n",
      "\u001b[0;32m/usr/lib/python3.5/concurrent/futures/_base.py\u001b[0m in \u001b[0;36mresult\u001b[0;34m(self, timeout)\u001b[0m\n\u001b[1;32m    398\u001b[0m                 \u001b[0;32mreturn\u001b[0m \u001b[0mself\u001b[0m\u001b[0;34m.\u001b[0m\u001b[0m__get_result\u001b[0m\u001b[0;34m(\u001b[0m\u001b[0;34m)\u001b[0m\u001b[0;34m\u001b[0m\u001b[0m\n\u001b[1;32m    399\u001b[0m \u001b[0;34m\u001b[0m\u001b[0m\n\u001b[0;32m--> 400\u001b[0;31m             \u001b[0mself\u001b[0m\u001b[0;34m.\u001b[0m\u001b[0m_condition\u001b[0m\u001b[0;34m.\u001b[0m\u001b[0mwait\u001b[0m\u001b[0;34m(\u001b[0m\u001b[0mtimeout\u001b[0m\u001b[0;34m)\u001b[0m\u001b[0;34m\u001b[0m\u001b[0m\n\u001b[0m\u001b[1;32m    401\u001b[0m \u001b[0;34m\u001b[0m\u001b[0m\n\u001b[1;32m    402\u001b[0m             \u001b[0;32mif\u001b[0m \u001b[0mself\u001b[0m\u001b[0;34m.\u001b[0m\u001b[0m_state\u001b[0m \u001b[0;32min\u001b[0m \u001b[0;34m[\u001b[0m\u001b[0mCANCELLED\u001b[0m\u001b[0;34m,\u001b[0m \u001b[0mCANCELLED_AND_NOTIFIED\u001b[0m\u001b[0;34m]\u001b[0m\u001b[0;34m:\u001b[0m\u001b[0;34m\u001b[0m\u001b[0m\n",
      "\u001b[0;32m/usr/lib/python3.5/threading.py\u001b[0m in \u001b[0;36mwait\u001b[0;34m(self, timeout)\u001b[0m\n\u001b[1;32m    291\u001b[0m         \u001b[0;32mtry\u001b[0m\u001b[0;34m:\u001b[0m    \u001b[0;31m# restore state no matter what (e.g., KeyboardInterrupt)\u001b[0m\u001b[0;34m\u001b[0m\u001b[0m\n\u001b[1;32m    292\u001b[0m             \u001b[0;32mif\u001b[0m \u001b[0mtimeout\u001b[0m \u001b[0;32mis\u001b[0m \u001b[0;32mNone\u001b[0m\u001b[0;34m:\u001b[0m\u001b[0;34m\u001b[0m\u001b[0m\n\u001b[0;32m--> 293\u001b[0;31m                 \u001b[0mwaiter\u001b[0m\u001b[0;34m.\u001b[0m\u001b[0macquire\u001b[0m\u001b[0;34m(\u001b[0m\u001b[0;34m)\u001b[0m\u001b[0;34m\u001b[0m\u001b[0m\n\u001b[0m\u001b[1;32m    294\u001b[0m                 \u001b[0mgotit\u001b[0m \u001b[0;34m=\u001b[0m \u001b[0;32mTrue\u001b[0m\u001b[0;34m\u001b[0m\u001b[0m\n\u001b[1;32m    295\u001b[0m             \u001b[0;32melse\u001b[0m\u001b[0;34m:\u001b[0m\u001b[0;34m\u001b[0m\u001b[0m\n",
      "\u001b[0;31mKeyboardInterrupt\u001b[0m: "
     ]
    }
   ],
   "source": [
    "url = 'https://stream.wikimedia.org/v2/stream/recentchange'\n",
    "for event in EventSource(url):\n",
    "    if event.event == 'message':\n",
    "        try:\n",
    "            change = json.loads(event.data)\n",
    "        except ValueError:\n",
    "            pass\n",
    "        else:\n",
    "            if 'revision' in change and change['wiki'] == 'enwiki':\n",
    "                rev_id = change['revision']['new']\n",
    "                proba = get_damage_proba(rev_id)\n",
    "                print(\"https://en.wikipedia.org/wiki/Special:Diff/{0}\".format(rev_id), \n",
    "                      round(proba, 2), \"check\" if proba and proba > 0.5 else \"OK\")"
   ]
  },
  {
   "cell_type": "code",
   "execution_count": null,
   "metadata": {
    "collapsed": true
   },
   "outputs": [],
   "source": []
  }
 ],
 "metadata": {
  "kernelspec": {
   "display_name": "Python 3",
   "language": "python",
   "name": "python3"
  },
  "language_info": {
   "codemirror_mode": {
    "name": "ipython",
    "version": 3
   },
   "file_extension": ".py",
   "mimetype": "text/x-python",
   "name": "python",
   "nbconvert_exporter": "python",
   "pygments_lexer": "ipython3",
   "version": "3.5.1+"
  }
 },
 "nbformat": 4,
 "nbformat_minor": 2
}
